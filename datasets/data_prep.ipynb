{
 "cells": [
  {
   "cell_type": "markdown",
   "metadata": {},
   "source": [
    "Filter rows where 'questions' and 'answers' columns are not null or empty in region-level and grounded_level conversation files."
   ]
  },
  {
   "cell_type": "code",
   "execution_count": 9,
   "metadata": {},
   "outputs": [],
   "source": [
    "import pandas as pd\n",
    "\n",
    "# Load the CSV file into a DataFrame\n",
    "df = pd.read_csv('train_classes_grounded_level.csv')\n",
    "\n",
    "# Filter rows where 'questions' and 'answers' columns are not null or empty\n",
    "filtered_df = df.dropna(subset=['questions', 'answers'])\n",
    "\n",
    "# Further filter out rows where 'questions' or 'answers' might be empty strings\n",
    "filtered_df = filtered_df[(filtered_df['questions'].str.strip() != '') & (filtered_df['answers'].str.strip() != '')]\n",
    "\n",
    "# Save the filtered DataFrame to a new CSV file\n",
    "filtered_df.to_csv('filtered_grounded_level.csv', index=False)\n"
   ]
  },
  {
   "cell_type": "markdown",
   "metadata": {},
   "source": [
    "Preparing JSON file for image-level conversations."
   ]
  },
  {
   "cell_type": "code",
   "execution_count": 3,
   "metadata": {},
   "outputs": [],
   "source": [
    "import os\n",
    "import pandas as pd\n",
    "import json\n",
    "import random\n",
    "import uuid\n",
    "import tqdm\n",
    "\n",
    "# List of prompts\n",
    "prompts = [\n",
    "    \"Describe the image concisely.\",\n",
    "    \"Provide a brief description of the given image.\",\n",
    "    \"Offer a succinct explanation of the picture presented.\",\n",
    "    \"Summarize the visual content of the image.\",\n",
    "    \"Give a short and clear explanation of the subsequent image.\",\n",
    "    \"Share a concise interpretation of the image provided.\",\n",
    "    \"Present a compact description of the photo’s key features.\",\n",
    "    \"Relay a brief, clear account of the picture shown.\",\n",
    "    \"Render a clear and concise summary of the photo.\",\n",
    "    \"Write a terse but informative summary of the picture.\",\n",
    "    \"Create a compact narrative representing the image presented.\"  \n",
    "]\n",
    "\n",
    "# Load the first CSV file\n",
    "df = pd.read_csv('./train_classes_with_modified_answers_v2.csv')\n",
    "\n",
    "# Create the initial JSON structure\n",
    "res = []\n",
    "\n",
    "for img_name, answer in zip(df['image_name'], df['answers']):\n",
    "    res.append({\n",
    "        \"id\": str(uuid.uuid4()),\n",
    "        \"image\": f\"amazon/train/train_jpg/{img_name}.jpg\",\n",
    "        \"conversations\": [\n",
    "            {\n",
    "                \"from\": \"human\",\n",
    "                \"value\": f\"<image>\\n{random.choice(prompts)}\"\n",
    "            },\n",
    "            {\n",
    "                \"from\": \"gpt\",\n",
    "                \"value\": answer\n",
    "            },\n",
    "        ]  \n",
    "    })\n",
    "\n",
    "with open('train_classes2.json', 'w') as f:\n",
    "    json.dump(res, f, indent=2)\n"
   ]
  },
  {
   "cell_type": "markdown",
   "metadata": {},
   "source": [
    "Adding region-level and grounded level conversations with 10 shots for each class. "
   ]
  },
  {
   "cell_type": "code",
   "execution_count": 4,
   "metadata": {},
   "outputs": [
    {
     "name": "stderr",
     "output_type": "stream",
     "text": [
      "100%|██████████| 142/142 [00:00<00:00, 22672.78it/s]\n"
     ]
    }
   ],
   "source": [
    "import pandas as pd\n",
    "import json\n",
    "import random\n",
    "from tqdm import tqdm\n",
    "\n",
    "# Load the existing JSON file\n",
    "with open('train_classes2.json', 'r') as f:\n",
    "    res = json.load(f)\n",
    "\n",
    "# Convert the list to a dictionary for faster lookups\n",
    "res_dict = {entry['image']: entry for entry in res}\n",
    "\n",
    "# Load the second CSV file\n",
    "df_region = pd.read_csv('./filtered_region_level.csv')\n",
    "\n",
    "# Update the JSON with additional conversations from the second CSV\n",
    "for index, row in tqdm(df_region.iterrows(), total=len(df_region)):\n",
    "    img_name = row['image_name']\n",
    "    question = row['questions']\n",
    "    answer = row['answers']\n",
    "    \n",
    "    # Construct the image path\n",
    "    image_path = f\"amazon/train/train_jpg/{img_name}.jpg\"\n",
    "    \n",
    "    # Check if the image exists in the dictionary\n",
    "    if image_path in res_dict:\n",
    "        entry = res_dict[image_path]\n",
    "        # Append the new question and answer to the conversations\n",
    "        entry['conversations'].append({\n",
    "            \"from\": \"human\",\n",
    "            \"value\": f\"<image>\\n{question}\"\n",
    "        })\n",
    "        entry['conversations'].append({\n",
    "            \"from\": \"gpt\",\n",
    "            \"value\": answer\n",
    "        })\n",
    "\n",
    "# Convert the dictionary back to a list\n",
    "res_updated = list(res_dict.values())\n",
    "\n",
    "# Write the updated JSON to a file\n",
    "with open('train_classes2.json', 'w') as f:\n",
    "    json.dump(res_updated, f, indent=2)\n"
   ]
  },
  {
   "cell_type": "code",
   "execution_count": 5,
   "metadata": {},
   "outputs": [
    {
     "name": "stderr",
     "output_type": "stream",
     "text": [
      "100%|██████████| 140/140 [00:00<00:00, 23175.69it/s]\n"
     ]
    }
   ],
   "source": [
    "import pandas as pd\n",
    "import json\n",
    "import random\n",
    "from tqdm import tqdm\n",
    "\n",
    "# Load the existing JSON file\n",
    "with open('train_classes2.json', 'r') as f:\n",
    "    res = json.load(f)\n",
    "\n",
    "# Convert the list to a dictionary for faster lookups\n",
    "res_dict = {entry['image']: entry for entry in res}\n",
    "\n",
    "# Load the second CSV file\n",
    "df_region = pd.read_csv('./filtered_grounded_level.csv')\n",
    "\n",
    "# Update the JSON with additional conversations from the second CSV\n",
    "for index, row in tqdm(df_region.iterrows(), total=len(df_region)):\n",
    "    img_name = row['image_name']\n",
    "    question = row['questions']\n",
    "    answer = row['answers']\n",
    "    \n",
    "    # Construct the image path\n",
    "    image_path = f\"amazon/train/train_jpg/{img_name}.jpg\"\n",
    "    \n",
    "    # Check if the image exists in the dictionary\n",
    "    if image_path in res_dict:\n",
    "        entry = res_dict[image_path]\n",
    "        # Append the new question and answer to the conversations\n",
    "        entry['conversations'].append({\n",
    "            \"from\": \"human\",\n",
    "            \"value\": f\"<image>\\n{question}\"\n",
    "        })\n",
    "        entry['conversations'].append({\n",
    "            \"from\": \"gpt\",\n",
    "            \"value\": answer\n",
    "        })\n",
    "\n",
    "# Convert the dictionary back to a list\n",
    "res_updated = list(res_dict.values())\n",
    "\n",
    "# Write the updated JSON to a file\n",
    "with open('train_classes2.json', 'w') as f:\n",
    "    json.dump(res_updated, f, indent=2)\n"
   ]
  },
  {
   "cell_type": "markdown",
   "metadata": {},
   "source": [
    "Extract the images from train/train-jpg which only occurs in image_name column of region_grounded_mix \n"
   ]
  },
  {
   "cell_type": "code",
   "execution_count": 6,
   "metadata": {},
   "outputs": [
    {
     "name": "stdout",
     "output_type": "stream",
     "text": [
      "Image extraction complete.\n"
     ]
    }
   ],
   "source": [
    "import os\n",
    "import pandas as pd\n",
    "import shutil\n",
    "\n",
    "# Define paths\n",
    "csv_path = '/ssd_1/sanjar/rsvlm/datasets/region_grounded_mix.csv'  # Update with the correct path if needed\n",
    "image_folder = '/ssd_1/sanjar/rsvlm/datasets/amazon/train/train-jpg/'\n",
    "output_folder = '/ssd_1/sanjar/rsvlm/datasets/amazon/region_ground_mix'  # Update the output path as needed\n",
    "\n",
    "# Create the output directory if it doesn't exist\n",
    "os.makedirs(output_folder, exist_ok=True)\n",
    "\n",
    "# Read the CSV file\n",
    "df = pd.read_csv(csv_path)\n",
    "\n",
    "# Get the list of image names from the img_name column\n",
    "image_names = [f\"{img_name}.jpg\" for img_name in df['image_name'].tolist()]\n",
    "\n",
    "# Copy each image to the new folder\n",
    "for img_name in image_names:\n",
    "    src_path = os.path.join(image_folder, img_name)\n",
    "    dst_path = os.path.join(output_folder, img_name)\n",
    "    if os.path.exists(src_path):\n",
    "        shutil.copy(src_path, dst_path)\n",
    "    else:\n",
    "        print(f\"Image {img_name} not found in {image_folder}\")\n",
    "\n",
    "print(\"Image extraction complete.\")\n"
   ]
  },
  {
   "cell_type": "markdown",
   "metadata": {},
   "source": [
    "Prepare json file of above condition"
   ]
  },
  {
   "cell_type": "code",
   "execution_count": 7,
   "metadata": {},
   "outputs": [
    {
     "name": "stdout",
     "output_type": "stream",
     "text": [
      "New JSON file created successfully.\n"
     ]
    }
   ],
   "source": [
    "import os\n",
    "import pandas as pd\n",
    "import json\n",
    "import uuid\n",
    "from tqdm import tqdm\n",
    "\n",
    "# Load the CSV file\n",
    "df = pd.read_csv('/ssd_1/sanjar/rsvlm/datasets/region_grounded_mix.csv')\n",
    "\n",
    "# Create the JSON structure\n",
    "res = []\n",
    "\n",
    "for img_name, question, answer in zip(df['image_name'], df['questions'], df['answers']):\n",
    "    res.append({\n",
    "        \"id\": str(uuid.uuid4()),\n",
    "        \"image\": f\"amazon/train/train_jpg/{img_name}.jpg\",\n",
    "        \"conversations\": [\n",
    "            {\n",
    "                \"from\": \"human\",\n",
    "                \"value\": f\"<image>\\n{question}\"\n",
    "            },\n",
    "            {\n",
    "                \"from\": \"gpt\",\n",
    "                \"value\": answer\n",
    "            },\n",
    "        ]  \n",
    "    })\n",
    "\n",
    "# Write the new JSON to a file\n",
    "with open('region_grounded_mix.json', 'w') as f:\n",
    "    json.dump(res, f, indent=2)\n",
    "\n",
    "print(\"New JSON file created successfully.\")\n"
   ]
  },
  {
   "cell_type": "code",
   "execution_count": null,
   "metadata": {},
   "outputs": [],
   "source": []
  },
  {
   "cell_type": "code",
   "execution_count": null,
   "metadata": {},
   "outputs": [],
   "source": []
  },
  {
   "cell_type": "code",
   "execution_count": null,
   "metadata": {},
   "outputs": [],
   "source": []
  }
 ],
 "metadata": {
  "kernelspec": {
   "display_name": "yolov8",
   "language": "python",
   "name": "python3"
  },
  "language_info": {
   "codemirror_mode": {
    "name": "ipython",
    "version": 3
   },
   "file_extension": ".py",
   "mimetype": "text/x-python",
   "name": "python",
   "nbconvert_exporter": "python",
   "pygments_lexer": "ipython3",
   "version": "3.10.14"
  }
 },
 "nbformat": 4,
 "nbformat_minor": 2
}
